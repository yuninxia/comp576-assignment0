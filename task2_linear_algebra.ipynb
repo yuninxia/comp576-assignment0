{
 "cells": [
  {
   "cell_type": "markdown",
   "metadata": {},
   "source": [
    "# Task 2: Linear Algebra Equivalents (MATLAB to Python)\n",
    "\n",
    "This notebook demonstrates all operations from the NumPy for MATLAB Users Linear Algebra Equivalents table."
   ]
  },
  {
   "cell_type": "code",
   "execution_count": 2,
   "metadata": {},
   "outputs": [],
   "source": [
    "# Import required libraries\n",
    "import numpy as np\n",
    "import scipy.linalg\n",
    "import scipy.signal\n",
    "from scipy.signal import decimate\n",
    "from scipy.sparse.linalg import eigs, eigsh, cg"
   ]
  },
  {
   "cell_type": "markdown",
   "metadata": {},
   "source": [
    "## Sample Matrices and Vectors"
   ]
  },
  {
   "cell_type": "code",
   "execution_count": 3,
   "metadata": {},
   "outputs": [
    {
     "name": "stdout",
     "output_type": "stream",
     "text": [
      "A (3x3) =\n",
      "[[1 2 3]\n",
      " [4 5 6]\n",
      " [7 8 9]]\n",
      "\n",
      "B (3x3) =\n",
      "[[9 8 7]\n",
      " [6 5 4]\n",
      " [3 2 1]]\n",
      "\n",
      "a (2x3) =\n",
      "[[1 2 3]\n",
      " [4 5 6]]\n",
      "\n",
      "v = [1 2 3]\n"
     ]
    }
   ],
   "source": [
    "# Define sample matrices and vectors for demonstration\n",
    "A = np.array([[1, 2, 3], \n",
    "              [4, 5, 6], \n",
    "              [7, 8, 9]])\n",
    "\n",
    "B = np.array([[9, 8, 7], \n",
    "              [6, 5, 4], \n",
    "              [3, 2, 1]])\n",
    "\n",
    "a = np.array([[1, 2, 3], [4, 5, 6]])  # 2x3 matrix\n",
    "b = np.array([[7, 8], [9, 10], [11, 12]])  # 3x2 matrix\n",
    "v = np.array([1, 2, 3])  # vector\n",
    "x = np.array([1, 2, 3])\n",
    "y = np.array([4, 5, 6])\n",
    "\n",
    "print(\"A (3x3) =\")\n",
    "print(A)\n",
    "print(\"\\nB (3x3) =\")\n",
    "print(B)\n",
    "print(\"\\na (2x3) =\")\n",
    "print(a)\n",
    "print(\"\\nv =\", v)"
   ]
  },
  {
   "cell_type": "markdown",
   "metadata": {},
   "source": [
    "## Section 1: Array Dimensions and Properties"
   ]
  },
  {
   "cell_type": "code",
   "execution_count": 4,
   "metadata": {},
   "outputs": [
    {
     "name": "stdout",
     "output_type": "stream",
     "text": [
      "Number of dimensions of array a: 2\n"
     ]
    }
   ],
   "source": [
    "# ndims(a) → np.ndim(a)\n",
    "print(\"Number of dimensions of array a:\", np.ndim(a))"
   ]
  },
  {
   "cell_type": "code",
   "execution_count": 5,
   "metadata": {},
   "outputs": [
    {
     "name": "stdout",
     "output_type": "stream",
     "text": [
      "Number of elements in array a: 6\n"
     ]
    }
   ],
   "source": [
    "# numel(a) → np.size(a)\n",
    "print(\"Number of elements in array a:\", np.size(a))"
   ]
  },
  {
   "cell_type": "code",
   "execution_count": 6,
   "metadata": {},
   "outputs": [
    {
     "name": "stdout",
     "output_type": "stream",
     "text": [
      "Shape of array a: (2, 3)\n"
     ]
    }
   ],
   "source": [
    "# size(a) → np.shape(a)\n",
    "print(\"Shape of array a:\", np.shape(a))"
   ]
  },
  {
   "cell_type": "code",
   "execution_count": 7,
   "metadata": {},
   "outputs": [
    {
     "name": "stdout",
     "output_type": "stream",
     "text": [
      "Size of 2nd dimension (MATLAB) / 1st dimension (Python): 3\n"
     ]
    }
   ],
   "source": [
    "# size(a,n) → a.shape[n-1]\n",
    "print(\"Size of 2nd dimension (MATLAB) / 1st dimension (Python):\", a.shape[1])"
   ]
  },
  {
   "cell_type": "markdown",
   "metadata": {},
   "source": [
    "## Section 2: Array Creation"
   ]
  },
  {
   "cell_type": "code",
   "execution_count": 8,
   "metadata": {},
   "outputs": [
    {
     "name": "stdout",
     "output_type": "stream",
     "text": [
      "2D array:\n",
      "[[1. 2. 3.]\n",
      " [4. 5. 6.]]\n"
     ]
    }
   ],
   "source": [
    "# Create 2D array\n",
    "arr = np.array([[1., 2., 3.], [4., 5., 6.]])\n",
    "print(\"2D array:\")\n",
    "print(arr)"
   ]
  },
  {
   "cell_type": "code",
   "execution_count": 9,
   "metadata": {},
   "outputs": [
    {
     "data": {
      "text/plain": [
       "array([[0., 0., 0., 0.],\n",
       "       [0., 0., 0., 0.],\n",
       "       [0., 0., 0., 0.]])"
      ]
     },
     "execution_count": 9,
     "metadata": {},
     "output_type": "execute_result"
    }
   ],
   "source": [
    "# zeros(3,4) → np.zeros((3, 4))\n",
    "np.zeros((3, 4))"
   ]
  },
  {
   "cell_type": "code",
   "execution_count": 10,
   "metadata": {},
   "outputs": [
    {
     "data": {
      "text/plain": [
       "array([[1., 1., 1., 1.],\n",
       "       [1., 1., 1., 1.],\n",
       "       [1., 1., 1., 1.]])"
      ]
     },
     "execution_count": 10,
     "metadata": {},
     "output_type": "execute_result"
    }
   ],
   "source": [
    "# ones(3,4) → np.ones((3, 4))\n",
    "np.ones((3, 4))"
   ]
  },
  {
   "cell_type": "code",
   "execution_count": 11,
   "metadata": {},
   "outputs": [
    {
     "data": {
      "text/plain": [
       "array([[1., 0., 0.],\n",
       "       [0., 1., 0.],\n",
       "       [0., 0., 1.]])"
      ]
     },
     "execution_count": 11,
     "metadata": {},
     "output_type": "execute_result"
    }
   ],
   "source": [
    "# eye(3) → np.eye(3)\n",
    "np.eye(3)"
   ]
  },
  {
   "cell_type": "code",
   "execution_count": 12,
   "metadata": {},
   "outputs": [
    {
     "name": "stdout",
     "output_type": "stream",
     "text": [
      "Diagonal of A:\n",
      "[1 5 9]\n",
      "\n",
      "Diagonal matrix from v:\n",
      "[[1 0 0]\n",
      " [0 2 0]\n",
      " [0 0 3]]\n"
     ]
    }
   ],
   "source": [
    "# diag(a) → np.diag(a) - Extract diagonal from matrix\n",
    "print(\"Diagonal of A:\")\n",
    "print(np.diag(A))\n",
    "\n",
    "# diag(v,0) → np.diag(v, 0) - Create diagonal matrix from vector\n",
    "print(\"\\nDiagonal matrix from v:\")\n",
    "print(np.diag(v, 0))"
   ]
  },
  {
   "cell_type": "code",
   "execution_count": 13,
   "metadata": {},
   "outputs": [
    {
     "data": {
      "text/plain": [
       "array([[0.77395605, 0.43887844, 0.85859792, 0.69736803],\n",
       "       [0.09417735, 0.97562235, 0.7611397 , 0.78606431],\n",
       "       [0.12811363, 0.45038594, 0.37079802, 0.92676499]])"
      ]
     },
     "execution_count": 13,
     "metadata": {},
     "output_type": "execute_result"
    }
   ],
   "source": [
    "# Random array with seed\n",
    "from numpy.random import default_rng\n",
    "rng = default_rng(42)\n",
    "rng.random((3, 4))"
   ]
  },
  {
   "cell_type": "code",
   "execution_count": 14,
   "metadata": {},
   "outputs": [
    {
     "data": {
      "text/plain": [
       "array([1.        , 1.66666667, 2.33333333, 3.        ])"
      ]
     },
     "execution_count": 14,
     "metadata": {},
     "output_type": "execute_result"
    }
   ],
   "source": [
    "# linspace(1,3,4) → np.linspace(1,3,4)\n",
    "np.linspace(1, 3, 4)"
   ]
  },
  {
   "cell_type": "code",
   "execution_count": 15,
   "metadata": {},
   "outputs": [
    {
     "name": "stdout",
     "output_type": "stream",
     "text": [
      "X grid:\n",
      "[[0 1 2]\n",
      " [0 1 2]\n",
      " [0 1 2]]\n",
      "\n",
      "Y grid:\n",
      "[[0 0 0]\n",
      " [1 1 1]\n",
      " [2 2 2]]\n"
     ]
    }
   ],
   "source": [
    "# meshgrid for 2D grids\n",
    "X, Y = np.meshgrid(np.arange(0, 3), np.arange(0, 3))\n",
    "print(\"X grid:\")\n",
    "print(X)\n",
    "print(\"\\nY grid:\")\n",
    "print(Y)"
   ]
  },
  {
   "cell_type": "code",
   "execution_count": 16,
   "metadata": {},
   "outputs": [
    {
     "name": "stdout",
     "output_type": "stream",
     "text": [
      "3D zeros array shape: (3, 4, 5)\n"
     ]
    }
   ],
   "source": [
    "# zeros(3,4,5) → np.zeros((3,4,5)) - 3D array\n",
    "print(\"3D zeros array shape:\", np.zeros((3, 4, 5)).shape)"
   ]
  },
  {
   "cell_type": "markdown",
   "metadata": {},
   "source": [
    "## Section 3: Indexing and Slicing"
   ]
  },
  {
   "cell_type": "code",
   "execution_count": 17,
   "metadata": {},
   "outputs": [
    {
     "name": "stdout",
     "output_type": "stream",
     "text": [
      "Last element of v: 3\n"
     ]
    }
   ],
   "source": [
    "# a(end) → a[-1]: Last element\n",
    "print(\"Last element of v:\", v[-1])"
   ]
  },
  {
   "cell_type": "code",
   "execution_count": 18,
   "metadata": {},
   "outputs": [
    {
     "name": "stdout",
     "output_type": "stream",
     "text": [
      "Element at [1, 4]: 10\n"
     ]
    }
   ],
   "source": [
    "# a(2,5) → a[1, 4]: Element access (2nd row, 5th column)\n",
    "large_mat = np.arange(30).reshape(5, 6)\n",
    "print(\"Element at [1, 4]:\", large_mat[1, 4])"
   ]
  },
  {
   "cell_type": "code",
   "execution_count": 19,
   "metadata": {},
   "outputs": [
    {
     "name": "stdout",
     "output_type": "stream",
     "text": [
      "Second row of a: [4 5 6]\n"
     ]
    }
   ],
   "source": [
    "# a(2,:) → a[1] or a[1, :]: Entire second row\n",
    "print(\"Second row of a:\", a[1])"
   ]
  },
  {
   "cell_type": "code",
   "execution_count": 20,
   "metadata": {},
   "outputs": [
    {
     "name": "stdout",
     "output_type": "stream",
     "text": [
      "First 3 rows of A:\n",
      "[[1 2 3]\n",
      " [4 5 6]\n",
      " [7 8 9]]\n"
     ]
    }
   ],
   "source": [
    "# a(1:3,:) → a[0:3]: First 3 rows\n",
    "print(\"First 3 rows of A:\")\n",
    "print(A[0:3])"
   ]
  },
  {
   "cell_type": "code",
   "execution_count": 21,
   "metadata": {},
   "outputs": [
    {
     "name": "stdout",
     "output_type": "stream",
     "text": [
      "Last 5 rows (all rows in this 5x5 matrix):\n",
      "[[ 1  2  3  4  5]\n",
      " [ 6  7  8  9 10]\n",
      " [11 12 13 14 15]\n",
      " [16 17 18 19 20]\n",
      " [21 22 23 24 25]]\n"
     ]
    }
   ],
   "source": [
    "# a(end-4:end,:) → a[-5:]: Last 5 rows\n",
    "M = np.arange(1, 26).reshape(5, 5)\n",
    "print(\"Last 5 rows (all rows in this 5x5 matrix):\")\n",
    "print(M[-5:])"
   ]
  },
  {
   "cell_type": "code",
   "execution_count": 22,
   "metadata": {},
   "outputs": [
    {
     "name": "stdout",
     "output_type": "stream",
     "text": [
      "Rows 1-3, columns 5-9:\n",
      "[[ 5  6  7  8  9]\n",
      " [14 15 16 17 18]\n",
      " [23 24 25 26 27]]\n"
     ]
    }
   ],
   "source": [
    "# a(1:3,5:9) → a[0:3,4:9]: Submatrix selection\n",
    "large_matrix = np.arange(1, 46).reshape(5, 9)\n",
    "print(\"Rows 1-3, columns 5-9:\")\n",
    "print(large_matrix[0:3, 4:9])"
   ]
  },
  {
   "cell_type": "code",
   "execution_count": 23,
   "metadata": {},
   "outputs": [
    {
     "name": "stdout",
     "output_type": "stream",
     "text": [
      "Select rows 2,4,5 and columns 1,3:\n",
      "[[10 12]\n",
      " [28 30]\n",
      " [37 39]]\n"
     ]
    }
   ],
   "source": [
    "# a([2,4,5],[1,3]) → a[np.ix_([1,3,4],[0,2])]: Advanced indexing\n",
    "M9 = np.arange(1, 82).reshape(9, 9)\n",
    "print(\"Select rows 2,4,5 and columns 1,3:\")\n",
    "print(M9[np.ix_([1, 3, 4], [0, 2])])"
   ]
  },
  {
   "cell_type": "code",
   "execution_count": 24,
   "metadata": {},
   "outputs": [
    {
     "name": "stdout",
     "output_type": "stream",
     "text": [
      "Every other row from 3rd to 21st:\n",
      "[[ 7  8  9]\n",
      " [13 14 15]\n",
      " [19 20 21]\n",
      " [25 26 27]\n",
      " [31 32 33]\n",
      " [37 38 39]\n",
      " [43 44 45]\n",
      " [49 50 51]\n",
      " [55 56 57]\n",
      " [61 62 63]]\n"
     ]
    }
   ],
   "source": [
    "# a(3:2:21,:) → a[2:21:2,:]: Step slicing\n",
    "Big = np.arange(1, 67).reshape(22, 3)\n",
    "print(\"Every other row from 3rd to 21st:\")\n",
    "print(Big[2:21:2, :])"
   ]
  },
  {
   "cell_type": "code",
   "execution_count": 25,
   "metadata": {},
   "outputs": [
    {
     "name": "stdout",
     "output_type": "stream",
     "text": [
      "Every other row of M:\n",
      "[[ 1  2  3  4  5]\n",
      " [11 12 13 14 15]\n",
      " [21 22 23 24 25]]\n"
     ]
    }
   ],
   "source": [
    "# a(1:2:end,:) → a[::2,:]: Every other row\n",
    "print(\"Every other row of M:\")\n",
    "print(M[::2, :])"
   ]
  },
  {
   "cell_type": "code",
   "execution_count": 26,
   "metadata": {},
   "outputs": [
    {
     "name": "stdout",
     "output_type": "stream",
     "text": [
      "A with reversed rows:\n",
      "[[7 8 9]\n",
      " [4 5 6]\n",
      " [1 2 3]]\n"
     ]
    }
   ],
   "source": [
    "# a(end:-1:1,:) → a[::-1,:]: Reverse rows\n",
    "print(\"A with reversed rows:\")\n",
    "print(A[::-1,:])"
   ]
  },
  {
   "cell_type": "code",
   "execution_count": 27,
   "metadata": {},
   "outputs": [
    {
     "name": "stdout",
     "output_type": "stream",
     "text": [
      "Append first row to end:\n",
      "[[1 2 3]\n",
      " [4 5 6]\n",
      " [1 2 3]]\n"
     ]
    }
   ],
   "source": [
    "# a([1:end 1],:) → a[np.r_[:len(a),0],:]: Append first row to end\n",
    "print(\"Append first row to end:\")\n",
    "print(a[np.r_[:len(a), 0], :])"
   ]
  },
  {
   "cell_type": "markdown",
   "metadata": {},
   "source": [
    "## Section 4: Array Manipulation"
   ]
  },
  {
   "cell_type": "code",
   "execution_count": 28,
   "metadata": {},
   "outputs": [
    {
     "name": "stdout",
     "output_type": "stream",
     "text": [
      "a.T (transpose):\n",
      "[[1 4]\n",
      " [2 5]\n",
      " [3 6]]\n",
      "\n",
      "C.conj().T (conjugate transpose):\n",
      "[[1.-2.j 5.-6.j]\n",
      " [3.-4.j 7.-8.j]]\n"
     ]
    }
   ],
   "source": [
    "# Transpose operations\n",
    "print(\"a.T (transpose):\")\n",
    "print(a.T)\n",
    "\n",
    "# Complex conjugate transpose\n",
    "C = np.array([[1+2j, 3+4j], [5+6j, 7+8j]])\n",
    "print(\"\\nC.conj().T (conjugate transpose):\")\n",
    "print(C.conj().T)"
   ]
  },
  {
   "cell_type": "code",
   "execution_count": 29,
   "metadata": {},
   "outputs": [
    {
     "name": "stdout",
     "output_type": "stream",
     "text": [
      "Original 2x2:\n",
      "[[1 2]\n",
      " [3 4]]\n",
      "\n",
      "Tiled 2x3:\n",
      "[[1 2 1 2 1 2]\n",
      " [3 4 3 4 3 4]\n",
      " [1 2 1 2 1 2]\n",
      " [3 4 3 4 3 4]]\n"
     ]
    }
   ],
   "source": [
    "# repmat(a, m, n) → np.tile(a, (m, n))\n",
    "small = np.array([[1, 2], [3, 4]])\n",
    "print(\"Original 2x2:\")\n",
    "print(small)\n",
    "print(\"\\nTiled 2x3:\")\n",
    "print(np.tile(small, (2, 3)))"
   ]
  },
  {
   "cell_type": "code",
   "execution_count": 30,
   "metadata": {},
   "outputs": [
    {
     "name": "stdout",
     "output_type": "stream",
     "text": [
      "Horizontal concatenate [a b] → np.hstack:\n",
      "[[1 2 5 6]\n",
      " [3 4 7 8]]\n",
      "\n",
      "Vertical concatenate [a; b] → np.vstack:\n",
      "[[1 2]\n",
      " [3 4]\n",
      " [5 6]\n",
      " [7 8]]\n"
     ]
    }
   ],
   "source": [
    "# Array concatenation\n",
    "arr1 = np.array([[1, 2], [3, 4]])\n",
    "arr2 = np.array([[5, 6], [7, 8]])\n",
    "print(\"Horizontal concatenate [a b] → np.hstack:\")\n",
    "print(np.hstack((arr1, arr2)))\n",
    "print(\"\\nVertical concatenate [a; b] → np.vstack:\")\n",
    "print(np.vstack((arr1, arr2)))"
   ]
  },
  {
   "cell_type": "code",
   "execution_count": 31,
   "metadata": {},
   "outputs": [
    {
     "name": "stdout",
     "output_type": "stream",
     "text": [
      "Block matrix from 2x2 blocks:\n",
      "[[ 1  2  5  6]\n",
      " [ 3  4  7  8]\n",
      " [ 9 10 13 14]\n",
      " [11 12 15 16]]\n"
     ]
    }
   ],
   "source": [
    "# Block matrix construction\n",
    "a_block = np.array([[1, 2], [3, 4]])\n",
    "b_block = np.array([[5, 6], [7, 8]])\n",
    "c_block = np.array([[9, 10], [11, 12]])\n",
    "d_block = np.array([[13, 14], [15, 16]])\n",
    "block_matrix = np.block([[a_block, b_block], [c_block, d_block]])\n",
    "print(\"Block matrix from 2x2 blocks:\")\n",
    "print(block_matrix)"
   ]
  },
  {
   "cell_type": "code",
   "execution_count": 32,
   "metadata": {},
   "outputs": [
    {
     "name": "stdout",
     "output_type": "stream",
     "text": [
      "A.flatten(): [1 2 3 4 5 6 7 8 9]\n",
      "A.flatten('F') - MATLAB column-major order: [1 4 7 2 5 8 3 6 9]\n"
     ]
    }
   ],
   "source": [
    "# flatten() - Turn array into vector\n",
    "print(\"A.flatten():\", A.flatten())\n",
    "print(\"A.flatten('F') - MATLAB column-major order:\", A.flatten('F'))"
   ]
  },
  {
   "cell_type": "code",
   "execution_count": 33,
   "metadata": {},
   "outputs": [
    {
     "name": "stdout",
     "output_type": "stream",
     "text": [
      "Shape before squeeze: (1, 3, 1)\n",
      "Shape after squeeze: (3,)\n"
     ]
    }
   ],
   "source": [
    "# squeeze() - Remove singleton dimensions\n",
    "arr_with_singleton = np.array([[[1], [2], [3]]])\n",
    "print(\"Shape before squeeze:\", arr_with_singleton.shape)\n",
    "print(\"Shape after squeeze:\", arr_with_singleton.squeeze().shape)"
   ]
  },
  {
   "cell_type": "markdown",
   "metadata": {},
   "source": [
    "## Section 5: Arithmetic Operations"
   ]
  },
  {
   "cell_type": "code",
   "execution_count": 34,
   "metadata": {},
   "outputs": [
    {
     "name": "stdout",
     "output_type": "stream",
     "text": [
      "A @ B (matrix multiplication):\n",
      "[[ 30  24  18]\n",
      " [ 84  69  54]\n",
      " [138 114  90]]\n"
     ]
    }
   ],
   "source": [
    "# Matrix multiplication (a * b → a @ b)\n",
    "print(\"A @ B (matrix multiplication):\")\n",
    "print(A @ B)"
   ]
  },
  {
   "cell_type": "code",
   "execution_count": 35,
   "metadata": {},
   "outputs": [
    {
     "name": "stdout",
     "output_type": "stream",
     "text": [
      "A * B (element-wise multiplication):\n",
      "[[ 9 16 21]\n",
      " [24 25 24]\n",
      " [21 16  9]]\n"
     ]
    }
   ],
   "source": [
    "# Element-wise multiplication (a .* b → a * b)\n",
    "print(\"A * B (element-wise multiplication):\")\n",
    "print(A * B)"
   ]
  },
  {
   "cell_type": "code",
   "execution_count": 36,
   "metadata": {},
   "outputs": [
    {
     "name": "stdout",
     "output_type": "stream",
     "text": [
      "A / B (element-wise division):\n",
      "[[0.11111111 0.25       0.42857143]\n",
      " [0.66666667 1.         1.5       ]\n",
      " [2.33333333 4.         9.        ]]\n"
     ]
    }
   ],
   "source": [
    "# Element-wise division (a./b → a/b)\n",
    "print(\"A / B (element-wise division):\")\n",
    "print(A / B)"
   ]
  },
  {
   "cell_type": "code",
   "execution_count": 37,
   "metadata": {},
   "outputs": [
    {
     "name": "stdout",
     "output_type": "stream",
     "text": [
      "a**3 (element-wise power):\n",
      "[[  1   8  27]\n",
      " [ 64 125 216]]\n"
     ]
    }
   ],
   "source": [
    "# Element-wise power (a.^3 → a**3)\n",
    "print(\"a**3 (element-wise power):\")\n",
    "print(a**3)"
   ]
  },
  {
   "cell_type": "code",
   "execution_count": 38,
   "metadata": {},
   "outputs": [
    {
     "name": "stdout",
     "output_type": "stream",
     "text": [
      "Matrix power A^2:\n",
      "[[ 30  36  42]\n",
      " [ 66  81  96]\n",
      " [102 126 150]]\n"
     ]
    }
   ],
   "source": [
    "# Matrix power\n",
    "print(\"Matrix power A^2:\")\n",
    "print(np.linalg.matrix_power(A, 2))"
   ]
  },
  {
   "cell_type": "markdown",
   "metadata": {},
   "source": [
    "## Section 6: Comparison and Logical Operations"
   ]
  },
  {
   "cell_type": "code",
   "execution_count": 39,
   "metadata": {},
   "outputs": [
    {
     "name": "stdout",
     "output_type": "stream",
     "text": [
      "Array:\n",
      "[[0.1 0.6]\n",
      " [0.3 0.8]]\n",
      "\n",
      "Elements > 0.5:\n",
      "[[False  True]\n",
      " [False  True]]\n"
     ]
    }
   ],
   "source": [
    "# Comparison (a > 0.5)\n",
    "test_arr = np.array([[0.1, 0.6], [0.3, 0.8]])\n",
    "print(\"Array:\")\n",
    "print(test_arr)\n",
    "print(\"\\nElements > 0.5:\")\n",
    "print(test_arr > 0.5)"
   ]
  },
  {
   "cell_type": "code",
   "execution_count": 40,
   "metadata": {},
   "outputs": [
    {
     "name": "stdout",
     "output_type": "stream",
     "text": [
      "Indices where elements > 0.5:\n",
      "(array([0, 1]), array([1, 1]))\n"
     ]
    }
   ],
   "source": [
    "# find(a > 0.5) → np.nonzero(a > 0.5)\n",
    "print(\"Indices where elements > 0.5:\")\n",
    "print(np.nonzero(test_arr > 0.5))"
   ]
  },
  {
   "cell_type": "code",
   "execution_count": 41,
   "metadata": {},
   "outputs": [
    {
     "name": "stdout",
     "output_type": "stream",
     "text": [
      "Matrix:\n",
      "[[ 1.  2.  3.  4.]\n",
      " [ 5.  6.  7.  8.]\n",
      " [ 9. 10. 11. 12.]]\n",
      "\n",
      "Vector for column selection: [0.2 0.7 0.6 0.1]\n",
      "\n",
      "Select columns where v>0.5:\n",
      "[[ 2.  3.]\n",
      " [ 6.  7.]\n",
      " [10. 11.]]\n"
     ]
    }
   ],
   "source": [
    "# Column selection with boolean condition\n",
    "Acols = np.arange(1, 13).reshape(3, 4).astype(float)\n",
    "vv = np.array([0.2, 0.7, 0.6, 0.1])\n",
    "print(\"Matrix:\")\n",
    "print(Acols)\n",
    "print(\"\\nVector for column selection:\", vv)\n",
    "print(\"\\nSelect columns where v>0.5:\")\n",
    "print(Acols[:, np.nonzero(vv > 0.5)[0]])"
   ]
  },
  {
   "cell_type": "code",
   "execution_count": 42,
   "metadata": {},
   "outputs": [
    {
     "name": "stdout",
     "output_type": "stream",
     "text": [
      "Set elements < 0.5 to zero:\n",
      "[[0.  0.6]\n",
      " [0.  0.8]]\n"
     ]
    }
   ],
   "source": [
    "# Set elements < 0.5 to zero\n",
    "test_copy = test_arr.copy()\n",
    "test_copy[test_copy < 0.5] = 0\n",
    "print(\"Set elements < 0.5 to zero:\")\n",
    "print(test_copy)"
   ]
  },
  {
   "cell_type": "code",
   "execution_count": 43,
   "metadata": {},
   "outputs": [
    {
     "name": "stdout",
     "output_type": "stream",
     "text": [
      "Original:\n",
      "[[0.1 0.7]\n",
      " [0.3 0.8]]\n",
      "\n",
      "Masked (elements <0.5 become 0):\n",
      "[[0.  0.7]\n",
      " [0.  0.8]]\n"
     ]
    }
   ],
   "source": [
    "# a .* (a>0.5) → a * (a>0.5): Mask multiplication\n",
    "mm = np.array([[0.1, 0.7], [0.3, 0.8]])\n",
    "print(\"Original:\")\n",
    "print(mm)\n",
    "print(\"\\nMasked (elements <0.5 become 0):\")\n",
    "print(mm * (mm > 0.5))"
   ]
  },
  {
   "cell_type": "code",
   "execution_count": 44,
   "metadata": {},
   "outputs": [
    {
     "name": "stdout",
     "output_type": "stream",
     "text": [
      "Array after a[:]=3:\n",
      "[[3 3]\n",
      " [3 3]]\n"
     ]
    }
   ],
   "source": [
    "# a(:)=3 → a[:]=3: Full assignment\n",
    "tmp = np.array([[1, 2], [3, 4]])\n",
    "tmp[:] = 3\n",
    "print(\"Array after a[:]=3:\")\n",
    "print(tmp)"
   ]
  },
  {
   "cell_type": "code",
   "execution_count": 45,
   "metadata": {},
   "outputs": [
    {
     "name": "stdout",
     "output_type": "stream",
     "text": [
      "a: [ True False  True]\n",
      "b: [ True  True False]\n",
      "logical_and(a, b): [ True False False]\n",
      "logical_or(a, b): [ True  True  True]\n"
     ]
    }
   ],
   "source": [
    "# Logical operations\n",
    "bool_a = np.array([True, False, True])\n",
    "bool_b = np.array([True, True, False])\n",
    "print(\"a:\", bool_a)\n",
    "print(\"b:\", bool_b)\n",
    "print(\"logical_and(a, b):\", np.logical_and(bool_a, bool_b))\n",
    "print(\"logical_or(a, b):\", np.logical_or(bool_a, bool_b))"
   ]
  },
  {
   "cell_type": "code",
   "execution_count": 46,
   "metadata": {},
   "outputs": [
    {
     "name": "stdout",
     "output_type": "stream",
     "text": [
      "a: [1 2 3]\n",
      "b: [3 2 1]\n",
      "a & b (bitwise AND): [1 2 1]\n",
      "a | b (bitwise OR): [3 2 3]\n"
     ]
    }
   ],
   "source": [
    "# Bitwise operations\n",
    "int_a = np.array([1, 2, 3])\n",
    "int_b = np.array([3, 2, 1])\n",
    "print(\"a:\", int_a)\n",
    "print(\"b:\", int_b)\n",
    "print(\"a & b (bitwise AND):\", int_a & int_b)\n",
    "print(\"a | b (bitwise OR):\", int_a | int_b)"
   ]
  },
  {
   "cell_type": "markdown",
   "metadata": {},
   "source": [
    "## Section 7: Mathematical Functions"
   ]
  },
  {
   "cell_type": "code",
   "execution_count": 47,
   "metadata": {},
   "outputs": [
    {
     "name": "stdout",
     "output_type": "stream",
     "text": [
      "A.max() - Maximum element: 9\n",
      "A.max(0) - Max of each column: [7 8 9]\n",
      "A.max(1) - Max of each row: [3 6 9]\n",
      "\n",
      "np.maximum(A, B) - Element-wise max:\n",
      "[[9 8 7]\n",
      " [6 5 6]\n",
      " [7 8 9]]\n"
     ]
    }
   ],
   "source": [
    "# max() operations\n",
    "print(\"A.max() - Maximum element:\", A.max())\n",
    "print(\"A.max(0) - Max of each column:\", A.max(0))\n",
    "print(\"A.max(1) - Max of each row:\", A.max(1))\n",
    "print(\"\\nnp.maximum(A, B) - Element-wise max:\")\n",
    "print(np.maximum(A, B))"
   ]
  },
  {
   "cell_type": "code",
   "execution_count": 48,
   "metadata": {},
   "outputs": [
    {
     "name": "stdout",
     "output_type": "stream",
     "text": [
      "np.linalg.norm(v) - L2 norm of v: 3.7416573867739413\n",
      "Alternative np.sqrt(v @ v): 3.7416573867739413\n"
     ]
    }
   ],
   "source": [
    "# Vector norm\n",
    "print(\"np.linalg.norm(v) - L2 norm of v:\", np.linalg.norm(v))\n",
    "print(\"Alternative np.sqrt(v @ v):\", np.sqrt(v @ v))"
   ]
  },
  {
   "cell_type": "code",
   "execution_count": 49,
   "metadata": {},
   "outputs": [
    {
     "name": "stdout",
     "output_type": "stream",
     "text": [
      "Array with duplicates: [1 2 2 3 3 3 4]\n",
      "Unique values: [1 2 3 4]\n"
     ]
    }
   ],
   "source": [
    "# unique(a) → np.unique(a)\n",
    "arr_with_dups = np.array([1, 2, 2, 3, 3, 3, 4])\n",
    "print(\"Array with duplicates:\", arr_with_dups)\n",
    "print(\"Unique values:\", np.unique(arr_with_dups))"
   ]
  },
  {
   "cell_type": "code",
   "execution_count": 50,
   "metadata": {},
   "outputs": [
    {
     "name": "stdout",
     "output_type": "stream",
     "text": [
      "np.dot(x, y): 32\n"
     ]
    }
   ],
   "source": [
    "# Dot product\n",
    "print(\"np.dot(x, y):\", np.dot(x, y))"
   ]
  },
  {
   "cell_type": "code",
   "execution_count": 51,
   "metadata": {},
   "outputs": [
    {
     "name": "stdout",
     "output_type": "stream",
     "text": [
      "np.outer(x, y):\n",
      "[[ 4  5  6]\n",
      " [ 8 10 12]\n",
      " [12 15 18]]\n"
     ]
    }
   ],
   "source": [
    "# Outer product\n",
    "print(\"np.outer(x, y):\")\n",
    "print(np.outer(x, y))"
   ]
  },
  {
   "cell_type": "code",
   "execution_count": 52,
   "metadata": {},
   "outputs": [
    {
     "name": "stdout",
     "output_type": "stream",
     "text": [
      "np.cross(x, y): [-3  6 -3]\n"
     ]
    }
   ],
   "source": [
    "# Cross product\n",
    "print(\"np.cross(x, y):\", np.cross(x, y))"
   ]
  },
  {
   "cell_type": "markdown",
   "metadata": {},
   "source": [
    "## Section 8: Linear Algebra"
   ]
  },
  {
   "cell_type": "code",
   "execution_count": 53,
   "metadata": {},
   "outputs": [
    {
     "name": "stdout",
     "output_type": "stream",
     "text": [
      "np.linalg.det(A): 0.0\n"
     ]
    }
   ],
   "source": [
    "# Matrix determinant\n",
    "print(\"np.linalg.det(A):\", np.linalg.det(A))"
   ]
  },
  {
   "cell_type": "code",
   "execution_count": 54,
   "metadata": {},
   "outputs": [
    {
     "name": "stdout",
     "output_type": "stream",
     "text": [
      "np.trace(A) - Sum of diagonal elements: 15\n"
     ]
    }
   ],
   "source": [
    "# Matrix trace\n",
    "print(\"np.trace(A) - Sum of diagonal elements:\", np.trace(A))"
   ]
  },
  {
   "cell_type": "code",
   "execution_count": 55,
   "metadata": {},
   "outputs": [
    {
     "name": "stdout",
     "output_type": "stream",
     "text": [
      "Frobenius norm: 16.881943016134134\n",
      "2-norm: 16.84810335261421\n",
      "1-norm: 18.0\n",
      "Infinity norm: 24.0\n"
     ]
    }
   ],
   "source": [
    "# Matrix norms\n",
    "print(\"Frobenius norm:\", np.linalg.norm(A, 'fro'))\n",
    "print(\"2-norm:\", np.linalg.norm(A, 2))\n",
    "print(\"1-norm:\", np.linalg.norm(A, 1))\n",
    "print(\"Infinity norm:\", np.linalg.norm(A, np.inf))"
   ]
  },
  {
   "cell_type": "code",
   "execution_count": 56,
   "metadata": {},
   "outputs": [
    {
     "name": "stdout",
     "output_type": "stream",
     "text": [
      "Matrix:\n",
      "[[1 2]\n",
      " [3 4]]\n",
      "\n",
      "Inverse:\n",
      "[[-2.   1. ]\n",
      " [ 1.5 -0.5]]\n"
     ]
    }
   ],
   "source": [
    "# Matrix inverse - inv(a) → linalg.inv(a)\n",
    "A_inv = np.array([[1, 2], [3, 4]])\n",
    "print(\"Matrix:\")\n",
    "print(A_inv)\n",
    "print(\"\\nInverse:\")\n",
    "print(np.linalg.inv(A_inv))"
   ]
  },
  {
   "cell_type": "code",
   "execution_count": 57,
   "metadata": {},
   "outputs": [
    {
     "name": "stdout",
     "output_type": "stream",
     "text": [
      "Pseudo-inverse of A:\n",
      "[[-6.38888889e-01 -1.66666667e-01  3.05555556e-01]\n",
      " [-5.55555556e-02  4.20756436e-17  5.55555556e-02]\n",
      " [ 5.27777778e-01  1.66666667e-01 -1.94444444e-01]]\n"
     ]
    }
   ],
   "source": [
    "# Pseudo-inverse - pinv(a) → linalg.pinv(a)\n",
    "print(\"Pseudo-inverse of A:\")\n",
    "print(np.linalg.pinv(A))"
   ]
  },
  {
   "cell_type": "code",
   "execution_count": 58,
   "metadata": {},
   "outputs": [
    {
     "name": "stdout",
     "output_type": "stream",
     "text": [
      "Rank of A: 2\n"
     ]
    }
   ],
   "source": [
    "# Matrix rank - rank(a) → np.linalg.matrix_rank(a)\n",
    "print(\"Rank of A:\", np.linalg.matrix_rank(A))"
   ]
  },
  {
   "cell_type": "code",
   "execution_count": 59,
   "metadata": {},
   "outputs": [
    {
     "name": "stdout",
     "output_type": "stream",
     "text": [
      "System: Ax = b\n",
      "A:\n",
      "[[3 1]\n",
      " [1 2]]\n",
      "b: [9 8]\n",
      "\n",
      "Solution x: [2. 3.]\n"
     ]
    }
   ],
   "source": [
    "# Solve linear system a\\b → linalg.solve(a, b)\n",
    "A_sys = np.array([[3, 1], [1, 2]])\n",
    "b_sys = np.array([9, 8])\n",
    "print(\"System: Ax = b\")\n",
    "print(\"A:\")\n",
    "print(A_sys)\n",
    "print(\"b:\", b_sys)\n",
    "print(\"\\nSolution x:\", np.linalg.solve(A_sys, b_sys))"
   ]
  },
  {
   "cell_type": "code",
   "execution_count": 60,
   "metadata": {},
   "outputs": [
    {
     "name": "stdout",
     "output_type": "stream",
     "text": [
      "Solve x*A = b (right division):\n",
      "x: [[2. 3.]]\n",
      "Verification x @ A2: [[9. 8.]]\n"
     ]
    }
   ],
   "source": [
    "# Right division: b/a (solve x*a = b)\n",
    "A2 = np.array([[3., 1.], [1., 2.]])\n",
    "brow = np.array([[9., 8.]])\n",
    "x_right = np.linalg.solve(A2.T, brow.T).T\n",
    "print(\"Solve x*A = b (right division):\")\n",
    "print(\"x:\", x_right)\n",
    "print(\"Verification x @ A2:\", x_right @ A2)"
   ]
  },
  {
   "cell_type": "code",
   "execution_count": 61,
   "metadata": {},
   "outputs": [
    {
     "name": "stdout",
     "output_type": "stream",
     "text": [
      "Least squares solution for Ax = v: [-0.05555556  0.11111111  0.27777778]\n"
     ]
    }
   ],
   "source": [
    "# Least squares - linalg.lstsq(a, b)\n",
    "solution, residuals, rank, s = np.linalg.lstsq(A, v, rcond=None)\n",
    "print(\"Least squares solution for Ax = v:\", solution)"
   ]
  },
  {
   "cell_type": "code",
   "execution_count": 62,
   "metadata": {},
   "outputs": [
    {
     "name": "stdout",
     "output_type": "stream",
     "text": [
      "Linear regression coefficients [intercept, slope]: [2.12709355 2.98267299]\n"
     ]
    }
   ],
   "source": [
    "# Linear regression Z\\y\n",
    "Z = np.column_stack([np.ones(10), np.arange(10)])\n",
    "y_reg = 2 + 3*np.arange(10) + np.random.randn(10)*0.1\n",
    "x_reg, residuals, rank, s = np.linalg.lstsq(Z, y_reg, rcond=None)\n",
    "print(\"Linear regression coefficients [intercept, slope]:\", x_reg)"
   ]
  },
  {
   "cell_type": "code",
   "execution_count": 63,
   "metadata": {},
   "outputs": [
    {
     "name": "stdout",
     "output_type": "stream",
     "text": [
      "U shape: (3, 3)\n",
      "S (singular values): [1.68481034e+01 1.06836951e+00 4.41842475e-16]\n",
      "Vh shape: (3, 3)\n"
     ]
    }
   ],
   "source": [
    "# SVD - [U,S,V]=svd(a) → U, S, Vh = linalg.svd(a)\n",
    "U, S, Vh = np.linalg.svd(A)\n",
    "print(\"U shape:\", U.shape)\n",
    "print(\"S (singular values):\", S)\n",
    "print(\"Vh shape:\", Vh.shape)"
   ]
  },
  {
   "cell_type": "code",
   "execution_count": 64,
   "metadata": {},
   "outputs": [
    {
     "name": "stdout",
     "output_type": "stream",
     "text": [
      "Positive definite matrix:\n",
      "[[4 2]\n",
      " [2 3]]\n",
      "\n",
      "Cholesky factor:\n",
      "[[2.         0.        ]\n",
      " [1.         1.41421356]]\n"
     ]
    }
   ],
   "source": [
    "# Cholesky - chol(a) → linalg.cholesky(a)\n",
    "A_pd = np.array([[4, 2], [2, 3]])\n",
    "print(\"Positive definite matrix:\")\n",
    "print(A_pd)\n",
    "print(\"\\nCholesky factor:\")\n",
    "print(np.linalg.cholesky(A_pd))"
   ]
  },
  {
   "cell_type": "code",
   "execution_count": 65,
   "metadata": {},
   "outputs": [
    {
     "name": "stdout",
     "output_type": "stream",
     "text": [
      "Eigenvalues: [ 1.61168440e+01 -1.11684397e+00 -1.30367773e-15]\n",
      "\n",
      "Eigenvectors:\n",
      "[[-0.23197069 -0.78583024  0.40824829]\n",
      " [-0.52532209 -0.08675134 -0.81649658]\n",
      " [-0.8186735   0.61232756  0.40824829]]\n"
     ]
    }
   ],
   "source": [
    "# Eigenvalues - [V,D]=eig(a) → D,V = linalg.eig(a)\n",
    "eigenvalues, eigenvectors = np.linalg.eig(A)\n",
    "print(\"Eigenvalues:\", eigenvalues)\n",
    "print(\"\\nEigenvectors:\")\n",
    "print(eigenvectors)"
   ]
  },
  {
   "cell_type": "code",
   "execution_count": 66,
   "metadata": {},
   "outputs": [
    {
     "name": "stdout",
     "output_type": "stream",
     "text": [
      "Generalized eigenvalues: [1.        +0.j 1.57142857+0.j]\n"
     ]
    }
   ],
   "source": [
    "# Generalized eigenvalue problem [V,D]=eig(a,b)\n",
    "Agen = np.array([[5., 2.], [2., 3.]])\n",
    "Bgen = np.array([[4., 1.], [1., 2.]])\n",
    "Dg, Vg = scipy.linalg.eig(Agen, Bgen)\n",
    "print(\"Generalized eigenvalues:\", Dg)"
   ]
  },
  {
   "cell_type": "code",
   "execution_count": 67,
   "metadata": {},
   "outputs": [
    {
     "name": "stdout",
     "output_type": "stream",
     "text": [
      "2 largest eigenvalues (symmetric case): [2.         3.41421356]\n"
     ]
    }
   ],
   "source": [
    "# Sparse eigenvalues - [V,D]=eigs(a,3)\n",
    "S = np.array([[2., 1., 0.],\n",
    "              [1., 2., 1.],\n",
    "              [0., 1., 2.]])\n",
    "\n",
    "# For symmetric matrices, use eigsh\n",
    "ws, vs = eigsh((S + S.T)/2, k=2, which='LA')\n",
    "print(\"2 largest eigenvalues (symmetric case):\", ws)"
   ]
  },
  {
   "cell_type": "code",
   "execution_count": 68,
   "metadata": {},
   "outputs": [
    {
     "name": "stdout",
     "output_type": "stream",
     "text": [
      "Q:\n",
      "[[-0.12309149  0.90453403  0.40824829]\n",
      " [-0.49236596  0.30151134 -0.81649658]\n",
      " [-0.86164044 -0.30151134  0.40824829]]\n",
      "\n",
      "R:\n",
      "[[-8.12403840e+00 -9.60113630e+00 -1.10782342e+01]\n",
      " [ 0.00000000e+00  9.04534034e-01  1.80906807e+00]\n",
      " [ 0.00000000e+00  0.00000000e+00 -8.88178420e-16]]\n"
     ]
    }
   ],
   "source": [
    "# QR decomposition - [Q,R]=qr(a) → Q,R = linalg.qr(a)\n",
    "Q, R = np.linalg.qr(A)\n",
    "print(\"Q:\")\n",
    "print(Q)\n",
    "print(\"\\nR:\")\n",
    "print(R)"
   ]
  },
  {
   "cell_type": "code",
   "execution_count": 69,
   "metadata": {},
   "outputs": [
    {
     "name": "stdout",
     "output_type": "stream",
     "text": [
      "P:\n",
      "[[0. 1. 0.]\n",
      " [0. 0. 1.]\n",
      " [1. 0. 0.]]\n",
      "\n",
      "L:\n",
      "[[1.         0.         0.        ]\n",
      " [0.14285714 1.         0.        ]\n",
      " [0.57142857 0.5        1.        ]]\n",
      "\n",
      "U:\n",
      "[[7.         8.         9.        ]\n",
      " [0.         0.85714286 1.71428571]\n",
      " [0.         0.         0.        ]]\n",
      "\n",
      "Verification - A ≈ P@L@U:\n",
      "Reconstruction error: 0.0\n",
      "Note: MATLAB's P = transpose(NumPy's P)\n"
     ]
    }
   ],
   "source": [
    "# LU decomposition - [L,U,P]=lu(a) → P,L,U = linalg.lu(a)\n",
    "P_lu, L_lu, U_lu = scipy.linalg.lu(A)\n",
    "print(\"P:\")\n",
    "print(P_lu)\n",
    "print(\"\\nL:\")\n",
    "print(L_lu)\n",
    "print(\"\\nU:\")\n",
    "print(U_lu)\n",
    "print(\"\\nVerification - A ≈ P@L@U:\")\n",
    "print(\"Reconstruction error:\", np.linalg.norm(A - P_lu @ L_lu @ U_lu))\n",
    "print(\"Note: MATLAB's P = transpose(NumPy's P)\")"
   ]
  },
  {
   "cell_type": "code",
   "execution_count": 70,
   "metadata": {},
   "outputs": [
    {
     "name": "stdout",
     "output_type": "stream",
     "text": [
      "CG solution: [0.09090909 0.63636364]\n",
      "Convergence info (0=success): 0\n"
     ]
    }
   ],
   "source": [
    "# Conjugate gradient solver - conjgrad → scipy.sparse.linalg.cg\n",
    "SPD = np.array([[4., 1.], [1., 3.]])\n",
    "bb = np.array([1., 2.])\n",
    "x_cg, info = cg(SPD, bb)\n",
    "print(\"CG solution:\", x_cg)\n",
    "print(\"Convergence info (0=success):\", info)"
   ]
  },
  {
   "cell_type": "markdown",
   "metadata": {},
   "source": [
    "## Section 9: Signal Processing"
   ]
  },
  {
   "cell_type": "code",
   "execution_count": 71,
   "metadata": {},
   "outputs": [
    {
     "name": "stdout",
     "output_type": "stream",
     "text": [
      "Signal: [1 2 3 4]\n",
      "FFT: [10.+0.j -2.+2.j -2.+0.j -2.-2.j]\n"
     ]
    }
   ],
   "source": [
    "# FFT - fft(a) → np.fft.fft(a)\n",
    "signal = np.array([1, 2, 3, 4])\n",
    "print(\"Signal:\", signal)\n",
    "print(\"FFT:\", np.fft.fft(signal))"
   ]
  },
  {
   "cell_type": "code",
   "execution_count": 72,
   "metadata": {},
   "outputs": [
    {
     "name": "stdout",
     "output_type": "stream",
     "text": [
      "IFFT of FFT (should recover original signal): [1. 2. 3. 4.]\n"
     ]
    }
   ],
   "source": [
    "# Inverse FFT - ifft(a) → np.fft.ifft(a)\n",
    "fft_result = np.fft.fft(signal)\n",
    "print(\"IFFT of FFT (should recover original signal):\", np.fft.ifft(fft_result).real)"
   ]
  },
  {
   "cell_type": "code",
   "execution_count": 73,
   "metadata": {},
   "outputs": [
    {
     "name": "stdout",
     "output_type": "stream",
     "text": [
      "Original length → Decimated length: 100 → 25\n"
     ]
    }
   ],
   "source": [
    "# decimate(x,q) → scipy.signal.decimate(x,q): Downsample with filtering\n",
    "sig = np.linspace(0, 10, 100)\n",
    "decim = decimate(sig, 4, zero_phase=True)\n",
    "print(\"Original length → Decimated length:\", len(sig), \"→\", len(decim))"
   ]
  },
  {
   "cell_type": "code",
   "execution_count": 74,
   "metadata": {},
   "outputs": [
    {
     "name": "stdout",
     "output_type": "stream",
     "text": [
      "Resampled length: 25\n"
     ]
    }
   ],
   "source": [
    "# Resampling alternative\n",
    "resampled = scipy.signal.resample(sig, int(np.ceil(len(sig)/4)))\n",
    "print(\"Resampled length:\", len(resampled))"
   ]
  },
  {
   "cell_type": "markdown",
   "metadata": {},
   "source": [
    "## Section 10: Sorting"
   ]
  },
  {
   "cell_type": "code",
   "execution_count": 75,
   "metadata": {},
   "outputs": [
    {
     "name": "stdout",
     "output_type": "stream",
     "text": [
      "Original array:\n",
      "[[3 1 2]\n",
      " [6 4 5]]\n",
      "\n",
      "Sort each column (axis=0):\n",
      "[[3 1 2]\n",
      " [6 4 5]]\n",
      "\n",
      "Sort each row (axis=1):\n",
      "[[1 2 3]\n",
      " [4 5 6]]\n"
     ]
    }
   ],
   "source": [
    "# sort(a) → np.sort(a)\n",
    "unsorted = np.array([[3, 1, 2], [6, 4, 5]])\n",
    "print(\"Original array:\")\n",
    "print(unsorted)\n",
    "print(\"\\nSort each column (axis=0):\")\n",
    "print(np.sort(unsorted, axis=0))\n",
    "print(\"\\nSort each row (axis=1):\")\n",
    "print(np.sort(unsorted, axis=1))"
   ]
  },
  {
   "cell_type": "code",
   "execution_count": 76,
   "metadata": {},
   "outputs": [
    {
     "name": "stdout",
     "output_type": "stream",
     "text": [
      "Original:\n",
      "[[3 1]\n",
      " [1 2]\n",
      " [2 3]]\n",
      "\n",
      "Sorted by first column:\n",
      "[[1 2]\n",
      " [2 3]\n",
      " [3 1]]\n"
     ]
    }
   ],
   "source": [
    "# Sort rows by first column\n",
    "to_sort = np.array([[3, 1], [1, 2], [2, 3]])\n",
    "print(\"Original:\")\n",
    "print(to_sort)\n",
    "I = np.argsort(to_sort[:, 0])\n",
    "sorted_arr = to_sort[I, :]\n",
    "print(\"\\nSorted by first column:\")\n",
    "print(sorted_arr)"
   ]
  },
  {
   "cell_type": "markdown",
   "metadata": {},
   "source": [
    "## Section 11: Additional Operations"
   ]
  },
  {
   "cell_type": "code",
   "execution_count": 77,
   "metadata": {},
   "outputs": [
    {
     "name": "stdout",
     "output_type": "stream",
     "text": [
      "1:10 → np.arange(1., 11.): [ 1.  2.  3.  4.  5.  6.  7.  8.  9. 10.]\n",
      "0:9 → np.arange(10.): [0. 1. 2. 3. 4. 5. 6. 7. 8. 9.]\n",
      "Alternative np.r_[1:11]: [ 1  2  3  4  5  6  7  8  9 10]\n"
     ]
    }
   ],
   "source": [
    "# Creating ranges\n",
    "print(\"1:10 → np.arange(1., 11.):\", np.arange(1., 11.))\n",
    "print(\"0:9 → np.arange(10.):\", np.arange(10.))\n",
    "print(\"Alternative np.r_[1:11]:\", np.r_[1:11])"
   ]
  },
  {
   "cell_type": "code",
   "execution_count": 78,
   "metadata": {},
   "outputs": [
    {
     "name": "stdout",
     "output_type": "stream",
     "text": [
      "Column vector shape: (5, 1)\n",
      "Column vector:\n",
      "[[1.]\n",
      " [2.]\n",
      " [3.]\n",
      " [4.]\n",
      " [5.]]\n"
     ]
    }
   ],
   "source": [
    "# Creating column vector\n",
    "col_vec = np.arange(1., 6.)[:, np.newaxis]\n",
    "print(\"Column vector shape:\", col_vec.shape)\n",
    "print(\"Column vector:\")\n",
    "print(col_vec)"
   ]
  },
  {
   "cell_type": "code",
   "execution_count": 79,
   "metadata": {},
   "outputs": [
    {
     "name": "stdout",
     "output_type": "stream",
     "text": [
      "Original x (unchanged): [4 5 6]\n",
      "Modified copy y: [999   5   6]\n",
      "\n",
      "Important: NumPy slices are views by default, use .copy() for independent copy\n"
     ]
    }
   ],
   "source": [
    "# Copy operations - y=x(2,:) → y=x[1,:].copy()\n",
    "xx = np.arange(1, 7).reshape(2, 3)\n",
    "yy = xx[1, :].copy()\n",
    "yy[0] = 999\n",
    "print(\"Original x (unchanged):\", xx[1, :])\n",
    "print(\"Modified copy y:\", yy)\n",
    "print(\"\\nImportant: NumPy slices are views by default, use .copy() for independent copy\")"
   ]
  },
  {
   "cell_type": "code",
   "execution_count": 80,
   "metadata": {},
   "outputs": [
    {
     "name": "stdout",
     "output_type": "stream",
     "text": [
      "mgrid (dense) shapes: (3, 4) (3, 4)\n",
      "ogrid (sparse) shapes: (3, 1) (1, 4)\n",
      "ix_ (for broadcasting) shapes: (3, 1) (1, 4)\n"
     ]
    }
   ],
   "source": [
    "# Grid generation methods\n",
    "gx, gy = np.mgrid[0:3, 0:4]\n",
    "print(\"mgrid (dense) shapes:\", gx.shape, gy.shape)\n",
    "\n",
    "ogx, ogy = np.ogrid[0:3, 0:4]\n",
    "print(\"ogrid (sparse) shapes:\", ogx.shape, ogy.shape)\n",
    "\n",
    "ixX, ixY = np.ix_(np.arange(3), np.arange(4))\n",
    "print(\"ix_ (for broadcasting) shapes:\", ixX.shape, ixY.shape)"
   ]
  }
 ],
 "metadata": {
  "kernelspec": {
   "display_name": "Python 3 (comp576)",
   "language": "python",
   "name": "comp576"
  },
  "language_info": {
   "codemirror_mode": {
    "name": "ipython",
    "version": 3
   },
   "file_extension": ".py",
   "mimetype": "text/x-python",
   "name": "python",
   "nbconvert_exporter": "python",
   "pygments_lexer": "ipython3",
   "version": "3.10.18"
  }
 },
 "nbformat": 4,
 "nbformat_minor": 4
}
